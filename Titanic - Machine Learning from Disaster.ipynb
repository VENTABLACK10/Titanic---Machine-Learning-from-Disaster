{
 "cells": [
  {
   "cell_type": "markdown",
   "id": "ed7cf661-bd10-49ae-80c1-f0bd158b69a4",
   "metadata": {},
   "source": [
    "# **Titanic - Machine Learning from Disaster**"
   ]
  },
  {
   "cell_type": "markdown",
   "id": "fa320bab-3911-4f7f-a6f5-4083e13337e4",
   "metadata": {},
   "source": [
    "## **Predict survival on the Titanic and get familiar with ML basics**\n",
    "https://www.kaggle.com/competitions/titanic"
   ]
  },
  {
   "cell_type": "markdown",
   "id": "ed65f261-5927-40ec-aefe-8736dffd5a7b",
   "metadata": {},
   "source": [
    "## **Mission : 타이타닉 침몰에서 승객의 생존 여부 예측**"
   ]
  },
  {
   "cell_type": "markdown",
   "id": "02a1d8ab-0794-4cef-ac6b-2d6925d4f0f6",
   "metadata": {},
   "source": [
    "### **평가지표: accuracy**"
   ]
  },
  {
   "cell_type": "markdown",
   "id": "5dfea976-d796-479d-945d-5b5149c0db5e",
   "metadata": {},
   "source": [
    "### **문제유형: 이진분류**"
   ]
  },
  {
   "cell_type": "markdown",
   "id": "df929842-0587-4a39-831a-a53ce0b7a378",
   "metadata": {},
   "source": [
    "#### **사용 모델 : XGBoost LightGBM Catboost Ensemble Model**"
   ]
  },
  {
   "cell_type": "code",
   "execution_count": 1,
   "id": "01d9148b-203b-4c49-bdfb-d12b96f812e9",
   "metadata": {},
   "outputs": [
    {
     "name": "stdout",
     "output_type": "stream",
     "text": [
      "Requirement already satisfied: xgboost in c:\\users\\degas\\anaconda3\\lib\\site-packages (2.0.2)\n",
      "Requirement already satisfied: numpy in c:\\users\\degas\\anaconda3\\lib\\site-packages (from xgboost) (1.24.3)\n",
      "Requirement already satisfied: scipy in c:\\users\\degas\\anaconda3\\lib\\site-packages (from xgboost) (1.11.1)\n",
      "Requirement already satisfied: lightgbm in c:\\users\\degas\\anaconda3\\lib\\site-packages (4.1.0)\n",
      "Requirement already satisfied: numpy in c:\\users\\degas\\anaconda3\\lib\\site-packages (from lightgbm) (1.24.3)\n",
      "Requirement already satisfied: scipy in c:\\users\\degas\\anaconda3\\lib\\site-packages (from lightgbm) (1.11.1)\n",
      "Requirement already satisfied: catboost in c:\\users\\degas\\anaconda3\\lib\\site-packages (1.2.2)\n",
      "Requirement already satisfied: graphviz in c:\\users\\degas\\anaconda3\\lib\\site-packages (from catboost) (0.20.1)\n",
      "Requirement already satisfied: matplotlib in c:\\users\\degas\\anaconda3\\lib\\site-packages (from catboost) (3.7.2)\n",
      "Requirement already satisfied: numpy>=1.16.0 in c:\\users\\degas\\anaconda3\\lib\\site-packages (from catboost) (1.24.3)\n",
      "Requirement already satisfied: pandas>=0.24 in c:\\users\\degas\\anaconda3\\lib\\site-packages (from catboost) (2.0.3)\n",
      "Requirement already satisfied: scipy in c:\\users\\degas\\anaconda3\\lib\\site-packages (from catboost) (1.11.1)\n",
      "Requirement already satisfied: plotly in c:\\users\\degas\\anaconda3\\lib\\site-packages (from catboost) (5.9.0)\n",
      "Requirement already satisfied: six in c:\\users\\degas\\anaconda3\\lib\\site-packages (from catboost) (1.16.0)\n",
      "Requirement already satisfied: python-dateutil>=2.8.2 in c:\\users\\degas\\anaconda3\\lib\\site-packages (from pandas>=0.24->catboost) (2.8.2)\n",
      "Requirement already satisfied: pytz>=2020.1 in c:\\users\\degas\\anaconda3\\lib\\site-packages (from pandas>=0.24->catboost) (2023.3.post1)\n",
      "Requirement already satisfied: tzdata>=2022.1 in c:\\users\\degas\\anaconda3\\lib\\site-packages (from pandas>=0.24->catboost) (2023.3)\n",
      "Requirement already satisfied: contourpy>=1.0.1 in c:\\users\\degas\\anaconda3\\lib\\site-packages (from matplotlib->catboost) (1.0.5)\n",
      "Requirement already satisfied: cycler>=0.10 in c:\\users\\degas\\anaconda3\\lib\\site-packages (from matplotlib->catboost) (0.11.0)\n",
      "Requirement already satisfied: fonttools>=4.22.0 in c:\\users\\degas\\anaconda3\\lib\\site-packages (from matplotlib->catboost) (4.25.0)\n",
      "Requirement already satisfied: kiwisolver>=1.0.1 in c:\\users\\degas\\anaconda3\\lib\\site-packages (from matplotlib->catboost) (1.4.4)\n",
      "Requirement already satisfied: packaging>=20.0 in c:\\users\\degas\\anaconda3\\lib\\site-packages (from matplotlib->catboost) (23.1)\n",
      "Requirement already satisfied: pillow>=6.2.0 in c:\\users\\degas\\anaconda3\\lib\\site-packages (from matplotlib->catboost) (10.0.1)\n",
      "Requirement already satisfied: pyparsing<3.1,>=2.3.1 in c:\\users\\degas\\anaconda3\\lib\\site-packages (from matplotlib->catboost) (3.0.9)\n",
      "Requirement already satisfied: tenacity>=6.2.0 in c:\\users\\degas\\anaconda3\\lib\\site-packages (from plotly->catboost) (8.2.2)\n",
      "Requirement already satisfied: optuna in c:\\users\\degas\\anaconda3\\lib\\site-packages (3.5.0)\n",
      "Requirement already satisfied: alembic>=1.5.0 in c:\\users\\degas\\anaconda3\\lib\\site-packages (from optuna) (1.13.0)\n",
      "Requirement already satisfied: colorlog in c:\\users\\degas\\anaconda3\\lib\\site-packages (from optuna) (6.8.0)\n",
      "Requirement already satisfied: numpy in c:\\users\\degas\\anaconda3\\lib\\site-packages (from optuna) (1.24.3)\n",
      "Requirement already satisfied: packaging>=20.0 in c:\\users\\degas\\anaconda3\\lib\\site-packages (from optuna) (23.1)\n",
      "Requirement already satisfied: sqlalchemy>=1.3.0 in c:\\users\\degas\\anaconda3\\lib\\site-packages (from optuna) (1.4.39)\n",
      "Requirement already satisfied: tqdm in c:\\users\\degas\\anaconda3\\lib\\site-packages (from optuna) (4.65.0)\n",
      "Requirement already satisfied: PyYAML in c:\\users\\degas\\anaconda3\\lib\\site-packages (from optuna) (6.0)\n",
      "Requirement already satisfied: Mako in c:\\users\\degas\\anaconda3\\lib\\site-packages (from alembic>=1.5.0->optuna) (1.3.0)\n",
      "Requirement already satisfied: typing-extensions>=4 in c:\\users\\degas\\anaconda3\\lib\\site-packages (from alembic>=1.5.0->optuna) (4.7.1)\n",
      "Requirement already satisfied: greenlet!=0.4.17 in c:\\users\\degas\\anaconda3\\lib\\site-packages (from sqlalchemy>=1.3.0->optuna) (2.0.1)\n",
      "Requirement already satisfied: colorama in c:\\users\\degas\\anaconda3\\lib\\site-packages (from colorlog->optuna) (0.4.6)\n",
      "Requirement already satisfied: MarkupSafe>=0.9.2 in c:\\users\\degas\\anaconda3\\lib\\site-packages (from Mako->alembic>=1.5.0->optuna) (2.1.1)\n"
     ]
    }
   ],
   "source": [
    "import pandas as pd\n",
    "import numpy as np\n",
    "\n",
    "import matplotlib.pyplot as plt\n",
    "import matplotlib as mpl\n",
    "import matplotlib.gridspec as gridspec\n",
    "import seaborn as sns\n",
    "%matplotlib inline\n",
    "\n",
    "import warnings\n",
    "warnings.filterwarnings(\"ignore\")\n",
    "warnings.filterwarnings(\"ignore\", category=FutureWarning, module=\"sklearn.utils.validation\")\n",
    "\n",
    "from sklearn.metrics import accuracy_score\n",
    "from sklearn.metrics import log_loss\n",
    "\n",
    "!pip3 install xgboost\n",
    "!pip3 install lightgbm\n",
    "!pip install catboost\n",
    "\n",
    "import xgboost as xgb\n",
    "import lightgbm as lgb\n",
    "from xgboost import XGBClassifier\n",
    "from lightgbm import LGBMClassifier\n",
    "from catboost import CatBoostClassifier\n",
    "from sklearn.ensemble import VotingClassifier\n",
    "\n",
    "from sklearn.model_selection import train_test_split\n",
    "from sklearn.model_selection import StratifiedKFold\n",
    "from sklearn.model_selection import cross_val_score\n",
    "from sklearn.model_selection import KFold\n",
    "from sklearn.model_selection import GridSearchCV\n",
    "from sklearn.model_selection import RandomizedSearchCV\n",
    "\n",
    "\n",
    "from sklearn.preprocessing import MinMaxScaler\n",
    "from sklearn.preprocessing import RobustScaler\n",
    "from sklearn.preprocessing import PowerTransformer\n",
    "\n",
    "!pip install optuna \n",
    "import optuna"
   ]
  },
  {
   "cell_type": "code",
   "execution_count": 2,
   "id": "298e404c-c63e-4fe4-8e9e-415ef3e2cb17",
   "metadata": {},
   "outputs": [],
   "source": [
    "train = pd.read_csv(r\"C:\\Users\\degas\\Desktop\\titanic\\train.csv\").drop(columns=['PassengerId'], axis=1)\n",
    "test = pd.read_csv(r\"C:\\Users\\degas\\Desktop\\titanic\\test.csv\").drop(columns=['PassengerId'], axis=1)\n",
    "submission = pd.read_csv(r\"C:\\Users\\degas\\Desktop\\titanic\\gender_submission.csv\")"
   ]
  },
  {
   "cell_type": "code",
   "execution_count": 3,
   "id": "bf96e6f6-8c2f-4d68-81d3-1e2c271e991e",
   "metadata": {},
   "outputs": [
    {
     "data": {
      "text/html": [
       "<div>\n",
       "<style scoped>\n",
       "    .dataframe tbody tr th:only-of-type {\n",
       "        vertical-align: middle;\n",
       "    }\n",
       "\n",
       "    .dataframe tbody tr th {\n",
       "        vertical-align: top;\n",
       "    }\n",
       "\n",
       "    .dataframe thead th {\n",
       "        text-align: right;\n",
       "    }\n",
       "</style>\n",
       "<table border=\"1\" class=\"dataframe\">\n",
       "  <thead>\n",
       "    <tr style=\"text-align: right;\">\n",
       "      <th></th>\n",
       "      <th>Survived</th>\n",
       "      <th>Pclass</th>\n",
       "      <th>Name</th>\n",
       "      <th>Sex</th>\n",
       "      <th>Age</th>\n",
       "      <th>SibSp</th>\n",
       "      <th>Parch</th>\n",
       "      <th>Ticket</th>\n",
       "      <th>Fare</th>\n",
       "      <th>Cabin</th>\n",
       "      <th>Embarked</th>\n",
       "    </tr>\n",
       "  </thead>\n",
       "  <tbody>\n",
       "    <tr>\n",
       "      <th>0</th>\n",
       "      <td>0</td>\n",
       "      <td>3</td>\n",
       "      <td>Braund, Mr. Owen Harris</td>\n",
       "      <td>male</td>\n",
       "      <td>22.0</td>\n",
       "      <td>1</td>\n",
       "      <td>0</td>\n",
       "      <td>A/5 21171</td>\n",
       "      <td>7.2500</td>\n",
       "      <td>NaN</td>\n",
       "      <td>S</td>\n",
       "    </tr>\n",
       "    <tr>\n",
       "      <th>1</th>\n",
       "      <td>1</td>\n",
       "      <td>1</td>\n",
       "      <td>Cumings, Mrs. John Bradley (Florence Briggs Th...</td>\n",
       "      <td>female</td>\n",
       "      <td>38.0</td>\n",
       "      <td>1</td>\n",
       "      <td>0</td>\n",
       "      <td>PC 17599</td>\n",
       "      <td>71.2833</td>\n",
       "      <td>C85</td>\n",
       "      <td>C</td>\n",
       "    </tr>\n",
       "    <tr>\n",
       "      <th>2</th>\n",
       "      <td>1</td>\n",
       "      <td>3</td>\n",
       "      <td>Heikkinen, Miss. Laina</td>\n",
       "      <td>female</td>\n",
       "      <td>26.0</td>\n",
       "      <td>0</td>\n",
       "      <td>0</td>\n",
       "      <td>STON/O2. 3101282</td>\n",
       "      <td>7.9250</td>\n",
       "      <td>NaN</td>\n",
       "      <td>S</td>\n",
       "    </tr>\n",
       "    <tr>\n",
       "      <th>3</th>\n",
       "      <td>1</td>\n",
       "      <td>1</td>\n",
       "      <td>Futrelle, Mrs. Jacques Heath (Lily May Peel)</td>\n",
       "      <td>female</td>\n",
       "      <td>35.0</td>\n",
       "      <td>1</td>\n",
       "      <td>0</td>\n",
       "      <td>113803</td>\n",
       "      <td>53.1000</td>\n",
       "      <td>C123</td>\n",
       "      <td>S</td>\n",
       "    </tr>\n",
       "    <tr>\n",
       "      <th>4</th>\n",
       "      <td>0</td>\n",
       "      <td>3</td>\n",
       "      <td>Allen, Mr. William Henry</td>\n",
       "      <td>male</td>\n",
       "      <td>35.0</td>\n",
       "      <td>0</td>\n",
       "      <td>0</td>\n",
       "      <td>373450</td>\n",
       "      <td>8.0500</td>\n",
       "      <td>NaN</td>\n",
       "      <td>S</td>\n",
       "    </tr>\n",
       "  </tbody>\n",
       "</table>\n",
       "</div>"
      ],
      "text/plain": [
       "   Survived  Pclass                                               Name  \\\n",
       "0         0       3                            Braund, Mr. Owen Harris   \n",
       "1         1       1  Cumings, Mrs. John Bradley (Florence Briggs Th...   \n",
       "2         1       3                             Heikkinen, Miss. Laina   \n",
       "3         1       1       Futrelle, Mrs. Jacques Heath (Lily May Peel)   \n",
       "4         0       3                           Allen, Mr. William Henry   \n",
       "\n",
       "      Sex   Age  SibSp  Parch            Ticket     Fare Cabin Embarked  \n",
       "0    male  22.0      1      0         A/5 21171   7.2500   NaN        S  \n",
       "1  female  38.0      1      0          PC 17599  71.2833   C85        C  \n",
       "2  female  26.0      0      0  STON/O2. 3101282   7.9250   NaN        S  \n",
       "3  female  35.0      1      0            113803  53.1000  C123        S  \n",
       "4    male  35.0      0      0            373450   8.0500   NaN        S  "
      ]
     },
     "execution_count": 3,
     "metadata": {},
     "output_type": "execute_result"
    }
   ],
   "source": [
    "train.head()"
   ]
  },
  {
   "cell_type": "code",
   "execution_count": 4,
   "id": "3989a8b4-5d72-452a-b7e8-6e43d3566661",
   "metadata": {},
   "outputs": [
    {
     "name": "stdout",
     "output_type": "stream",
     "text": [
      "<class 'pandas.core.frame.DataFrame'>\n",
      "RangeIndex: 891 entries, 0 to 890\n",
      "Data columns (total 11 columns):\n",
      " #   Column    Non-Null Count  Dtype  \n",
      "---  ------    --------------  -----  \n",
      " 0   Survived  891 non-null    int64  \n",
      " 1   Pclass    891 non-null    int64  \n",
      " 2   Name      891 non-null    object \n",
      " 3   Sex       891 non-null    object \n",
      " 4   Age       714 non-null    float64\n",
      " 5   SibSp     891 non-null    int64  \n",
      " 6   Parch     891 non-null    int64  \n",
      " 7   Ticket    891 non-null    object \n",
      " 8   Fare      891 non-null    float64\n",
      " 9   Cabin     204 non-null    object \n",
      " 10  Embarked  889 non-null    object \n",
      "dtypes: float64(2), int64(4), object(5)\n",
      "memory usage: 76.7+ KB\n"
     ]
    }
   ],
   "source": [
    "train.info()"
   ]
  },
  {
   "cell_type": "code",
   "execution_count": 5,
   "id": "af7f6bd8-86e5-4281-9271-32b9066c921e",
   "metadata": {},
   "outputs": [
    {
     "data": {
      "text/html": [
       "<div>\n",
       "<style scoped>\n",
       "    .dataframe tbody tr th:only-of-type {\n",
       "        vertical-align: middle;\n",
       "    }\n",
       "\n",
       "    .dataframe tbody tr th {\n",
       "        vertical-align: top;\n",
       "    }\n",
       "\n",
       "    .dataframe thead th {\n",
       "        text-align: right;\n",
       "    }\n",
       "</style>\n",
       "<table border=\"1\" class=\"dataframe\">\n",
       "  <thead>\n",
       "    <tr style=\"text-align: right;\">\n",
       "      <th></th>\n",
       "      <th>Pclass</th>\n",
       "      <th>Name</th>\n",
       "      <th>Sex</th>\n",
       "      <th>Age</th>\n",
       "      <th>SibSp</th>\n",
       "      <th>Parch</th>\n",
       "      <th>Ticket</th>\n",
       "      <th>Fare</th>\n",
       "      <th>Cabin</th>\n",
       "      <th>Embarked</th>\n",
       "    </tr>\n",
       "  </thead>\n",
       "  <tbody>\n",
       "    <tr>\n",
       "      <th>0</th>\n",
       "      <td>3</td>\n",
       "      <td>Kelly, Mr. James</td>\n",
       "      <td>male</td>\n",
       "      <td>34.5</td>\n",
       "      <td>0</td>\n",
       "      <td>0</td>\n",
       "      <td>330911</td>\n",
       "      <td>7.8292</td>\n",
       "      <td>NaN</td>\n",
       "      <td>Q</td>\n",
       "    </tr>\n",
       "    <tr>\n",
       "      <th>1</th>\n",
       "      <td>3</td>\n",
       "      <td>Wilkes, Mrs. James (Ellen Needs)</td>\n",
       "      <td>female</td>\n",
       "      <td>47.0</td>\n",
       "      <td>1</td>\n",
       "      <td>0</td>\n",
       "      <td>363272</td>\n",
       "      <td>7.0000</td>\n",
       "      <td>NaN</td>\n",
       "      <td>S</td>\n",
       "    </tr>\n",
       "    <tr>\n",
       "      <th>2</th>\n",
       "      <td>2</td>\n",
       "      <td>Myles, Mr. Thomas Francis</td>\n",
       "      <td>male</td>\n",
       "      <td>62.0</td>\n",
       "      <td>0</td>\n",
       "      <td>0</td>\n",
       "      <td>240276</td>\n",
       "      <td>9.6875</td>\n",
       "      <td>NaN</td>\n",
       "      <td>Q</td>\n",
       "    </tr>\n",
       "    <tr>\n",
       "      <th>3</th>\n",
       "      <td>3</td>\n",
       "      <td>Wirz, Mr. Albert</td>\n",
       "      <td>male</td>\n",
       "      <td>27.0</td>\n",
       "      <td>0</td>\n",
       "      <td>0</td>\n",
       "      <td>315154</td>\n",
       "      <td>8.6625</td>\n",
       "      <td>NaN</td>\n",
       "      <td>S</td>\n",
       "    </tr>\n",
       "    <tr>\n",
       "      <th>4</th>\n",
       "      <td>3</td>\n",
       "      <td>Hirvonen, Mrs. Alexander (Helga E Lindqvist)</td>\n",
       "      <td>female</td>\n",
       "      <td>22.0</td>\n",
       "      <td>1</td>\n",
       "      <td>1</td>\n",
       "      <td>3101298</td>\n",
       "      <td>12.2875</td>\n",
       "      <td>NaN</td>\n",
       "      <td>S</td>\n",
       "    </tr>\n",
       "  </tbody>\n",
       "</table>\n",
       "</div>"
      ],
      "text/plain": [
       "   Pclass                                          Name     Sex   Age  SibSp  \\\n",
       "0       3                              Kelly, Mr. James    male  34.5      0   \n",
       "1       3              Wilkes, Mrs. James (Ellen Needs)  female  47.0      1   \n",
       "2       2                     Myles, Mr. Thomas Francis    male  62.0      0   \n",
       "3       3                              Wirz, Mr. Albert    male  27.0      0   \n",
       "4       3  Hirvonen, Mrs. Alexander (Helga E Lindqvist)  female  22.0      1   \n",
       "\n",
       "   Parch   Ticket     Fare Cabin Embarked  \n",
       "0      0   330911   7.8292   NaN        Q  \n",
       "1      0   363272   7.0000   NaN        S  \n",
       "2      0   240276   9.6875   NaN        Q  \n",
       "3      0   315154   8.6625   NaN        S  \n",
       "4      1  3101298  12.2875   NaN        S  "
      ]
     },
     "execution_count": 5,
     "metadata": {},
     "output_type": "execute_result"
    }
   ],
   "source": [
    "test.head()"
   ]
  },
  {
   "cell_type": "code",
   "execution_count": 6,
   "id": "6651a207-e24c-466f-b6bc-6535ec14ff26",
   "metadata": {},
   "outputs": [
    {
     "name": "stdout",
     "output_type": "stream",
     "text": [
      "<class 'pandas.core.frame.DataFrame'>\n",
      "RangeIndex: 418 entries, 0 to 417\n",
      "Data columns (total 10 columns):\n",
      " #   Column    Non-Null Count  Dtype  \n",
      "---  ------    --------------  -----  \n",
      " 0   Pclass    418 non-null    int64  \n",
      " 1   Name      418 non-null    object \n",
      " 2   Sex       418 non-null    object \n",
      " 3   Age       332 non-null    float64\n",
      " 4   SibSp     418 non-null    int64  \n",
      " 5   Parch     418 non-null    int64  \n",
      " 6   Ticket    418 non-null    object \n",
      " 7   Fare      417 non-null    float64\n",
      " 8   Cabin     91 non-null     object \n",
      " 9   Embarked  418 non-null    object \n",
      "dtypes: float64(2), int64(3), object(5)\n",
      "memory usage: 32.8+ KB\n"
     ]
    }
   ],
   "source": [
    "test.info()"
   ]
  },
  {
   "cell_type": "code",
   "execution_count": 7,
   "id": "72c920af-6076-4619-9613-1a067360c1f5",
   "metadata": {},
   "outputs": [
    {
     "name": "stdout",
     "output_type": "stream",
     "text": [
      "<class 'pandas.core.frame.DataFrame'>\n",
      "RangeIndex: 418 entries, 0 to 417\n",
      "Data columns (total 2 columns):\n",
      " #   Column       Non-Null Count  Dtype\n",
      "---  ------       --------------  -----\n",
      " 0   PassengerId  418 non-null    int64\n",
      " 1   Survived     418 non-null    int64\n",
      "dtypes: int64(2)\n",
      "memory usage: 6.7 KB\n"
     ]
    }
   ],
   "source": [
    "submission.info()"
   ]
  },
  {
   "cell_type": "code",
   "execution_count": 8,
   "id": "ae2122e8-6829-481b-9af0-2efd6bbe625c",
   "metadata": {},
   "outputs": [
    {
     "name": "stdout",
     "output_type": "stream",
     "text": [
      "데이터셋 형상: (891, 11)\n",
      "데이터셋 형상: (418, 10)\n"
     ]
    }
   ],
   "source": [
    "def resumetable(df):\n",
    "  print(f'데이터셋 형상: {df.shape}')\n",
    "  summary = pd.DataFrame(df.dtypes, columns=['데이터 타입'])\n",
    "  summary = summary.reset_index()\n",
    "  summary = summary.rename(columns={'index': '피처 값'})\n",
    "  summary['결측값 개수'] = df.isnull().sum().values\n",
    "  summary['고윳값 개수'] = df.nunique().values\n",
    "  summary['첫 번째 값'] = df.loc[0].values\n",
    "  summary['두 번째 값'] = df.loc[1].values\n",
    "  return summary\n",
    "\n",
    "summary1 = resumetable(train)\n",
    "summary2 = resumetable(test)"
   ]
  },
  {
   "cell_type": "code",
   "execution_count": 9,
   "id": "204a8d93-da19-4d5b-a80c-661d6a15fd8d",
   "metadata": {},
   "outputs": [
    {
     "data": {
      "text/html": [
       "<div>\n",
       "<style scoped>\n",
       "    .dataframe tbody tr th:only-of-type {\n",
       "        vertical-align: middle;\n",
       "    }\n",
       "\n",
       "    .dataframe tbody tr th {\n",
       "        vertical-align: top;\n",
       "    }\n",
       "\n",
       "    .dataframe thead th {\n",
       "        text-align: right;\n",
       "    }\n",
       "</style>\n",
       "<table border=\"1\" class=\"dataframe\">\n",
       "  <thead>\n",
       "    <tr style=\"text-align: right;\">\n",
       "      <th></th>\n",
       "      <th>피처 값</th>\n",
       "      <th>데이터 타입</th>\n",
       "      <th>결측값 개수</th>\n",
       "      <th>고윳값 개수</th>\n",
       "      <th>첫 번째 값</th>\n",
       "      <th>두 번째 값</th>\n",
       "    </tr>\n",
       "  </thead>\n",
       "  <tbody>\n",
       "    <tr>\n",
       "      <th>0</th>\n",
       "      <td>Survived</td>\n",
       "      <td>int64</td>\n",
       "      <td>0</td>\n",
       "      <td>2</td>\n",
       "      <td>0</td>\n",
       "      <td>1</td>\n",
       "    </tr>\n",
       "    <tr>\n",
       "      <th>1</th>\n",
       "      <td>Pclass</td>\n",
       "      <td>int64</td>\n",
       "      <td>0</td>\n",
       "      <td>3</td>\n",
       "      <td>3</td>\n",
       "      <td>1</td>\n",
       "    </tr>\n",
       "    <tr>\n",
       "      <th>2</th>\n",
       "      <td>Name</td>\n",
       "      <td>object</td>\n",
       "      <td>0</td>\n",
       "      <td>891</td>\n",
       "      <td>Braund, Mr. Owen Harris</td>\n",
       "      <td>Cumings, Mrs. John Bradley (Florence Briggs Th...</td>\n",
       "    </tr>\n",
       "    <tr>\n",
       "      <th>3</th>\n",
       "      <td>Sex</td>\n",
       "      <td>object</td>\n",
       "      <td>0</td>\n",
       "      <td>2</td>\n",
       "      <td>male</td>\n",
       "      <td>female</td>\n",
       "    </tr>\n",
       "    <tr>\n",
       "      <th>4</th>\n",
       "      <td>Age</td>\n",
       "      <td>float64</td>\n",
       "      <td>177</td>\n",
       "      <td>88</td>\n",
       "      <td>22.0</td>\n",
       "      <td>38.0</td>\n",
       "    </tr>\n",
       "    <tr>\n",
       "      <th>5</th>\n",
       "      <td>SibSp</td>\n",
       "      <td>int64</td>\n",
       "      <td>0</td>\n",
       "      <td>7</td>\n",
       "      <td>1</td>\n",
       "      <td>1</td>\n",
       "    </tr>\n",
       "    <tr>\n",
       "      <th>6</th>\n",
       "      <td>Parch</td>\n",
       "      <td>int64</td>\n",
       "      <td>0</td>\n",
       "      <td>7</td>\n",
       "      <td>0</td>\n",
       "      <td>0</td>\n",
       "    </tr>\n",
       "    <tr>\n",
       "      <th>7</th>\n",
       "      <td>Ticket</td>\n",
       "      <td>object</td>\n",
       "      <td>0</td>\n",
       "      <td>681</td>\n",
       "      <td>A/5 21171</td>\n",
       "      <td>PC 17599</td>\n",
       "    </tr>\n",
       "    <tr>\n",
       "      <th>8</th>\n",
       "      <td>Fare</td>\n",
       "      <td>float64</td>\n",
       "      <td>0</td>\n",
       "      <td>248</td>\n",
       "      <td>7.25</td>\n",
       "      <td>71.2833</td>\n",
       "    </tr>\n",
       "    <tr>\n",
       "      <th>9</th>\n",
       "      <td>Cabin</td>\n",
       "      <td>object</td>\n",
       "      <td>687</td>\n",
       "      <td>147</td>\n",
       "      <td>NaN</td>\n",
       "      <td>C85</td>\n",
       "    </tr>\n",
       "    <tr>\n",
       "      <th>10</th>\n",
       "      <td>Embarked</td>\n",
       "      <td>object</td>\n",
       "      <td>2</td>\n",
       "      <td>3</td>\n",
       "      <td>S</td>\n",
       "      <td>C</td>\n",
       "    </tr>\n",
       "  </tbody>\n",
       "</table>\n",
       "</div>"
      ],
      "text/plain": [
       "        피처 값   데이터 타입  결측값 개수  고윳값 개수                   첫 번째 값  \\\n",
       "0   Survived    int64       0       2                        0   \n",
       "1     Pclass    int64       0       3                        3   \n",
       "2       Name   object       0     891  Braund, Mr. Owen Harris   \n",
       "3        Sex   object       0       2                     male   \n",
       "4        Age  float64     177      88                     22.0   \n",
       "5      SibSp    int64       0       7                        1   \n",
       "6      Parch    int64       0       7                        0   \n",
       "7     Ticket   object       0     681                A/5 21171   \n",
       "8       Fare  float64       0     248                     7.25   \n",
       "9      Cabin   object     687     147                      NaN   \n",
       "10  Embarked   object       2       3                        S   \n",
       "\n",
       "                                               두 번째 값  \n",
       "0                                                   1  \n",
       "1                                                   1  \n",
       "2   Cumings, Mrs. John Bradley (Florence Briggs Th...  \n",
       "3                                              female  \n",
       "4                                                38.0  \n",
       "5                                                   1  \n",
       "6                                                   0  \n",
       "7                                            PC 17599  \n",
       "8                                             71.2833  \n",
       "9                                                 C85  \n",
       "10                                                  C  "
      ]
     },
     "execution_count": 9,
     "metadata": {},
     "output_type": "execute_result"
    }
   ],
   "source": [
    "summary1"
   ]
  },
  {
   "cell_type": "code",
   "execution_count": 10,
   "id": "2fc00fdb-8945-44aa-9bb4-796d60c8077c",
   "metadata": {},
   "outputs": [
    {
     "data": {
      "text/html": [
       "<div>\n",
       "<style scoped>\n",
       "    .dataframe tbody tr th:only-of-type {\n",
       "        vertical-align: middle;\n",
       "    }\n",
       "\n",
       "    .dataframe tbody tr th {\n",
       "        vertical-align: top;\n",
       "    }\n",
       "\n",
       "    .dataframe thead th {\n",
       "        text-align: right;\n",
       "    }\n",
       "</style>\n",
       "<table border=\"1\" class=\"dataframe\">\n",
       "  <thead>\n",
       "    <tr style=\"text-align: right;\">\n",
       "      <th></th>\n",
       "      <th>피처 값</th>\n",
       "      <th>데이터 타입</th>\n",
       "      <th>결측값 개수</th>\n",
       "      <th>고윳값 개수</th>\n",
       "      <th>첫 번째 값</th>\n",
       "      <th>두 번째 값</th>\n",
       "    </tr>\n",
       "  </thead>\n",
       "  <tbody>\n",
       "    <tr>\n",
       "      <th>0</th>\n",
       "      <td>Pclass</td>\n",
       "      <td>int64</td>\n",
       "      <td>0</td>\n",
       "      <td>3</td>\n",
       "      <td>3</td>\n",
       "      <td>3</td>\n",
       "    </tr>\n",
       "    <tr>\n",
       "      <th>1</th>\n",
       "      <td>Name</td>\n",
       "      <td>object</td>\n",
       "      <td>0</td>\n",
       "      <td>418</td>\n",
       "      <td>Kelly, Mr. James</td>\n",
       "      <td>Wilkes, Mrs. James (Ellen Needs)</td>\n",
       "    </tr>\n",
       "    <tr>\n",
       "      <th>2</th>\n",
       "      <td>Sex</td>\n",
       "      <td>object</td>\n",
       "      <td>0</td>\n",
       "      <td>2</td>\n",
       "      <td>male</td>\n",
       "      <td>female</td>\n",
       "    </tr>\n",
       "    <tr>\n",
       "      <th>3</th>\n",
       "      <td>Age</td>\n",
       "      <td>float64</td>\n",
       "      <td>86</td>\n",
       "      <td>79</td>\n",
       "      <td>34.5</td>\n",
       "      <td>47.0</td>\n",
       "    </tr>\n",
       "    <tr>\n",
       "      <th>4</th>\n",
       "      <td>SibSp</td>\n",
       "      <td>int64</td>\n",
       "      <td>0</td>\n",
       "      <td>7</td>\n",
       "      <td>0</td>\n",
       "      <td>1</td>\n",
       "    </tr>\n",
       "    <tr>\n",
       "      <th>5</th>\n",
       "      <td>Parch</td>\n",
       "      <td>int64</td>\n",
       "      <td>0</td>\n",
       "      <td>8</td>\n",
       "      <td>0</td>\n",
       "      <td>0</td>\n",
       "    </tr>\n",
       "    <tr>\n",
       "      <th>6</th>\n",
       "      <td>Ticket</td>\n",
       "      <td>object</td>\n",
       "      <td>0</td>\n",
       "      <td>363</td>\n",
       "      <td>330911</td>\n",
       "      <td>363272</td>\n",
       "    </tr>\n",
       "    <tr>\n",
       "      <th>7</th>\n",
       "      <td>Fare</td>\n",
       "      <td>float64</td>\n",
       "      <td>1</td>\n",
       "      <td>169</td>\n",
       "      <td>7.8292</td>\n",
       "      <td>7.0</td>\n",
       "    </tr>\n",
       "    <tr>\n",
       "      <th>8</th>\n",
       "      <td>Cabin</td>\n",
       "      <td>object</td>\n",
       "      <td>327</td>\n",
       "      <td>76</td>\n",
       "      <td>NaN</td>\n",
       "      <td>NaN</td>\n",
       "    </tr>\n",
       "    <tr>\n",
       "      <th>9</th>\n",
       "      <td>Embarked</td>\n",
       "      <td>object</td>\n",
       "      <td>0</td>\n",
       "      <td>3</td>\n",
       "      <td>Q</td>\n",
       "      <td>S</td>\n",
       "    </tr>\n",
       "  </tbody>\n",
       "</table>\n",
       "</div>"
      ],
      "text/plain": [
       "       피처 값   데이터 타입  결측값 개수  고윳값 개수            첫 번째 값  \\\n",
       "0    Pclass    int64       0       3                 3   \n",
       "1      Name   object       0     418  Kelly, Mr. James   \n",
       "2       Sex   object       0       2              male   \n",
       "3       Age  float64      86      79              34.5   \n",
       "4     SibSp    int64       0       7                 0   \n",
       "5     Parch    int64       0       8                 0   \n",
       "6    Ticket   object       0     363            330911   \n",
       "7      Fare  float64       1     169            7.8292   \n",
       "8     Cabin   object     327      76               NaN   \n",
       "9  Embarked   object       0       3                 Q   \n",
       "\n",
       "                             두 번째 값  \n",
       "0                                 3  \n",
       "1  Wilkes, Mrs. James (Ellen Needs)  \n",
       "2                            female  \n",
       "3                              47.0  \n",
       "4                                 1  \n",
       "5                                 0  \n",
       "6                            363272  \n",
       "7                               7.0  \n",
       "8                               NaN  \n",
       "9                                 S  "
      ]
     },
     "execution_count": 10,
     "metadata": {},
     "output_type": "execute_result"
    }
   ],
   "source": [
    "summary2"
   ]
  },
  {
   "cell_type": "markdown",
   "id": "1ab58494-d7f8-4014-86e7-ca548d7f9586",
   "metadata": {},
   "source": [
    "## **feature 알아보기**"
   ]
  },
  {
   "cell_type": "markdown",
   "id": "668b5261-f457-4cf9-80c6-c007d95ed69e",
   "metadata": {},
   "source": [
    "- 01. PassengerId\n",
    "    - 승객 번호\n",
    "    - 인덱스 번호와 동일하므로 drop\n",
    "    - type : int64\n",
    "  "
   ]
  },
  {
   "cell_type": "markdown",
   "id": "5c963a5b-a643-43da-b016-25d0d3a0a659",
   "metadata": {},
   "source": [
    "- 02. Survived\n",
    "    - 생존 여부\n",
    "    - 0 : No, 1 : Yes\n",
    "    - 타겟 피쳐, 학습 시 drop\n",
    "    - type : int64\n",
    "  "
   ]
  },
  {
   "cell_type": "markdown",
   "id": "f4f409a8-1a3a-4abc-b515-a1af884a8090",
   "metadata": {},
   "source": [
    "- 03. Pclass\n",
    "    - Ticketc class \n",
    "    - 1 = 1st, 2 = 2nd, 3 = 3rd\n",
    "    - type : int64\n",
    "  "
   ]
  },
  {
   "cell_type": "markdown",
   "id": "f6e7729d-8551-4873-8766-db53ec837448",
   "metadata": {},
   "source": [
    "- 04. Name\n",
    "    - 승객 이름\n",
    "    - type : object\n",
    "  "
   ]
  },
  {
   "cell_type": "markdown",
   "id": "0c2099b6-2792-4c4c-aad6-339f7930dd48",
   "metadata": {},
   "source": [
    "- 05. Sex\n",
    "    - 성별\n",
    "    - 종류 : male, female\n",
    "    - type : object\n",
    "  "
   ]
  },
  {
   "cell_type": "markdown",
   "id": "f4cbc91e-2dd0-47a0-9a99-d498fdd3e35f",
   "metadata": {},
   "source": [
    "- 06. Age\n",
    "    - 승객 나이\n",
    "    - 결측값 존재(train, test)\n",
    "    - type : float64\n",
    "  "
   ]
  },
  {
   "cell_type": "markdown",
   "id": "a4a6f2a8-98fa-4755-b832-759f3bea2de1",
   "metadata": {},
   "source": [
    "- 07. SibSp\n",
    "    - 형제자매/배우자 수\n",
    "    - type : int64\n",
    "  "
   ]
  },
  {
   "cell_type": "markdown",
   "id": "b13d9cd0-6247-4543-8106-96007a32338d",
   "metadata": {},
   "source": [
    "- 08. Parch\n",
    "    - 부모/자녀 수\n",
    "    - type : int64\n",
    "  "
   ]
  },
  {
   "cell_type": "markdown",
   "id": "e9cd71b4-94c7-4dbe-8ac3-4b44e4fd6ca1",
   "metadata": {},
   "source": [
    "- 09. Ticket\n",
    "    - 티켓 번호\n",
    "    - type : object\n"
   ]
  },
  {
   "cell_type": "markdown",
   "id": "3aa61855-95b6-4f0f-b937-0efc65249cfb",
   "metadata": {},
   "source": [
    "- 10. Fare\n",
    "    - 운임료\n",
    "    - type : float64\n",
    "  "
   ]
  },
  {
   "cell_type": "markdown",
   "id": "bbfe7e0b-9316-4c0b-a6b4-f24ce56dc13f",
   "metadata": {},
   "source": [
    "- 11. Cabin\n",
    "    - 선실 번호\n",
    "    - 결측값 존재(train, test)\n",
    "    - type : object\n"
   ]
  },
  {
   "cell_type": "markdown",
   "id": "59a567db-277e-412c-bbe8-2286dfea131b",
   "metadata": {},
   "source": [
    "- 12. Embarked\n",
    "    - 중간 정착 항구\n",
    "    - C : 쉘부르 / Q: 퀸스타운 / S 사우샘프턴\n",
    "    - 결측값 존재(train)\n",
    "    - type : object\n"
   ]
  },
  {
   "cell_type": "code",
   "execution_count": 11,
   "id": "841a1829-3f5a-437a-90ca-c418a084fbd8",
   "metadata": {},
   "outputs": [],
   "source": [
    "# type별 피쳐 분리\n",
    "\n",
    "# 이진형 피쳐(타겟 변수 제외)\n",
    "bin_cols = ['Sex']\n",
    "\n",
    "# 순서형 피쳐 & 명목형 피쳐\n",
    "ord_nom_cols= ['Pclass', 'SibSp', 'Parch', 'Embarked']\n",
    "\n",
    "# 연속형 피쳐\n",
    "con_cols = ['Age', 'Fare']\n",
    "\n",
    "# 기타\n",
    "name_cols = ['Name', 'Ticket', 'Cabin']\n"
   ]
  },
  {
   "cell_type": "markdown",
   "id": "1067ab6b-17a6-4998-80e7-6db8903d2958",
   "metadata": {},
   "source": [
    "## **EDA**"
   ]
  },
  {
   "cell_type": "code",
   "execution_count": 12,
   "id": "cc33808c-87b7-404c-ae0f-0de7cbb31266",
   "metadata": {},
   "outputs": [],
   "source": [
    "def write_percent(ax, total_size):\n",
    "# 도향 객체를 순회하며 막대 그래프 상단에 타깃값 비율 표시\n",
    "  for patch in ax.patches:\n",
    "    height = patch.get_height()       # 도형 높이(데이터 개수)\n",
    "    width = patch.get_width()         # 도형 너비\n",
    "    left_coord = patch.get_x()        # 도형 왼쪽 테두리의 x축 위치\n",
    "    percent = height/total_size*100   # 타깃값 비율\n",
    "\n",
    "    # (x, y) 좌표에 텍스트 입력\n",
    "    ax.text(left_coord + width/2.0,      # x축 위치\n",
    "            height + total_size *0.001,  # y축 위치\n",
    "            '{:1.1f}%'.format(percent),  # 입력 텍스트\n",
    "             ha='center')                # 가운데 정렬"
   ]
  },
  {
   "cell_type": "code",
   "execution_count": 13,
   "id": "1bf95399-9fa8-4700-86f2-00570e75eb9d",
   "metadata": {},
   "outputs": [
    {
     "data": {
      "text/plain": [
       "Survived\n",
       "0    549\n",
       "1    342\n",
       "Name: count, dtype: int64"
      ]
     },
     "execution_count": 13,
     "metadata": {},
     "output_type": "execute_result"
    },
    {
     "data": {
      "image/png": "[encoded data removed]",
      "text/plain": [
       "<Figure size 500x500 with 1 Axes>"
      ]
     },
     "metadata": {},
     "output_type": "display_data"
    }
   ],
   "source": [
    "# 타깃값 분포\n",
    "mpl.rc('font', size=15)\n",
    "plt.figure(figsize=(5,5))\n",
    "\n",
    "ax = sns.countplot(x='Survived', data=train, palette='Set2')\n",
    "write_percent(ax, len(train))\n",
    "ax.set_title('Survived Distribution')\n",
    "\n",
    "train['Survived'].value_counts()\n",
    "\n",
    "# 생존과 사망 비율 6:4 "
   ]
  },
  {
   "cell_type": "code",
   "execution_count": 14,
   "id": "d1ce16a4-f4af-4907-a9ff-07676f34efe6",
   "metadata": {},
   "outputs": [
    {
     "name": "stdout",
     "output_type": "stream",
     "text": [
      "Sex\n",
      "male      577\n",
      "female    314\n",
      "Name: count, dtype: int64\n",
      "\n"
     ]
    }
   ],
   "source": [
    "# 이진 피처\n",
    "print(train['Sex'].value_counts())\n",
    "print()"
   ]
  },
  {
   "cell_type": "code",
   "execution_count": 15,
   "id": "8fa98d53-07f8-4c67-9d3e-5b86d5d33fc9",
   "metadata": {},
   "outputs": [
    {
     "data": {
      "image/png": "[encoded data removed]",
      "text/plain": [
       "<Figure size 1000x500 with 1 Axes>"
      ]
     },
     "metadata": {},
     "output_type": "display_data"
    }
   ],
   "source": [
    "# 이진 피처의 고윳값별 타깃값 비율\n",
    "def plot_target_ratio_by_features(df, features, num_rows, num_cols, size=(12,8), bins=None):\n",
    "  mpl.rc('font', size=10)\n",
    "  plt.figure(figsize=size)\n",
    "  grid = gridspec.GridSpec(num_rows, num_cols)\n",
    "  plt.subplots_adjust(wspace=0.5, hspace=0.5)\n",
    "\n",
    "  for idx, feature in enumerate(features):\n",
    "    ax = plt.subplot(grid[idx]) \n",
    "    sns.barplot(x=feature, y='Survived', data=train, palette='Set2', ax=ax)\n",
    "\n",
    "plot_target_ratio_by_features(train, bin_cols, 1, 2, (10, 5))\n",
    "\n",
    "# Sex oht 대상"
   ]
  },
  {
   "cell_type": "code",
   "execution_count": 16,
   "id": "74033178-365e-4bde-8651-cfa8021eb122",
   "metadata": {},
   "outputs": [
    {
     "name": "stdout",
     "output_type": "stream",
     "text": [
      "Pclass\n",
      "3    491\n",
      "1    216\n",
      "2    184\n",
      "Name: count, dtype: int64\n",
      "\n",
      "SibSp\n",
      "0    608\n",
      "1    209\n",
      "2     28\n",
      "4     18\n",
      "3     16\n",
      "8      7\n",
      "5      5\n",
      "Name: count, dtype: int64\n",
      "\n",
      "Parch\n",
      "0    678\n",
      "1    118\n",
      "2     80\n",
      "5      5\n",
      "3      5\n",
      "4      4\n",
      "6      1\n",
      "Name: count, dtype: int64\n",
      "\n",
      "Embarked\n",
      "S    644\n",
      "C    168\n",
      "Q     77\n",
      "Name: count, dtype: int64\n",
      "Embarked 결측값 개수 : 2\n"
     ]
    }
   ],
   "source": [
    "# 순서 피처\n",
    "print(train['Pclass'].value_counts())\n",
    "print()\n",
    "\n",
    "print(train['SibSp'].value_counts())\n",
    "print()\n",
    "\n",
    "print(train['Parch'].value_counts())\n",
    "print()\n",
    "\n",
    "# 명목 피처\n",
    "print(train['Embarked'].value_counts())\n",
    "print('Embarked 결측값 개수 :', train['Embarked'].isnull().sum())"
   ]
  },
  {
   "cell_type": "code",
   "execution_count": 17,
   "id": "b6dfa33e-fa08-46cd-b8b5-216861a4ca0e",
   "metadata": {},
   "outputs": [
    {
     "data": {
      "image/png": "[encoded data removed]",
      "text/plain": [
       "<Figure size 1500x800 with 4 Axes>"
      ]
     },
     "metadata": {},
     "output_type": "display_data"
    }
   ],
   "source": [
    "# 순서형 변수 & 명목형 변수\n",
    "\n",
    "train['Embarked'].fillna('S', inplace=True)\n",
    "\n",
    "plot_target_ratio_by_features(train, ord_nom_cols, 2, 2, (15, 8))\n",
    "# SibSp Parch 신뢰구간이 큰 부분 존재, 단 신뢰상한과 신뢰하한이 크다면 제거 X\n",
    "# Embarked oht 대상"
   ]
  },
  {
   "cell_type": "code",
   "execution_count": 18,
   "id": "153b1165-48ad-406c-8ff6-96a3a4d627cf",
   "metadata": {},
   "outputs": [
    {
     "name": "stdout",
     "output_type": "stream",
     "text": [
      "fellow\n",
      "1     537\n",
      "2     161\n",
      "3     102\n",
      "4      29\n",
      "6      22\n",
      "5      15\n",
      "7      12\n",
      "11      7\n",
      "8       6\n",
      "Name: count, dtype: int64\n",
      "fellow\n",
      "1    163\n",
      "2     89\n",
      "3     59\n",
      "4     21\n",
      "7      4\n",
      "6      3\n",
      "5      3\n",
      "Name: count, dtype: int64\n"
     ]
    },
    {
     "data": {
      "image/png": "[encoded data removed]",
      "text/plain": [
       "<Figure size 500x500 with 1 Axes>"
      ]
     },
     "metadata": {},
     "output_type": "display_data"
    }
   ],
   "source": [
    "# SibSp & Parch에 따른 생존율\n",
    "\n",
    "fig = plt.figure(figsize=(5,5))\n",
    "ax1 = fig.add_subplot(3,1,1)\n",
    "\n",
    "train['fellow'] = train['SibSp'] + train['Parch'] + 1 # 최소 1 : 1은 동행자 X\n",
    "test['fellow'] = test['SibSp'] + test['Parch'] + 1 # 최소 1 : 1은 동행자 X\n",
    "\n",
    "print(train['fellow'].value_counts(ascending=False)) #  부모/자녀 수 \n",
    "print(train.fellow[train['Survived']==1].value_counts(ascending=False)) # 부모/자녀 수에 따른 생존율\n",
    "sns.barplot(x='fellow', y='Survived', data=train, ax=ax1)\n",
    "# 동승자가 많을 수록 생존율 증가\n",
    "\n",
    "# 기존 Parch SibSp 데이터 삭제\n",
    "train = train.drop(['Parch', 'SibSp'], axis=1)\n",
    "test = test.drop(['Parch', 'SibSp'], axis=1)"
   ]
  },
  {
   "cell_type": "code",
   "execution_count": 19,
   "id": "ee14711f-b961-4a94-a99d-24c321da7419",
   "metadata": {},
   "outputs": [
    {
     "name": "stdout",
     "output_type": "stream",
     "text": [
      "Age\n",
      "1.0    562\n",
      "0.0    179\n",
      "2.0    128\n",
      "3.0     22\n",
      "Name: count, dtype: int64\n"
     ]
    },
    {
     "data": {
      "text/plain": [
       "<Axes: xlabel='Age', ylabel='Survived'>"
      ]
     },
     "execution_count": 19,
     "metadata": {},
     "output_type": "execute_result"
    },
    {
     "data": {
      "image/png": "[encoded data removed]",
      "text/plain": [
       "<Figure size 500x500 with 1 Axes>"
      ]
     },
     "metadata": {},
     "output_type": "display_data"
    }
   ],
   "source": [
    "# 연속형 변수 -> 범주형 변수로 변환\n",
    "\n",
    "# Age\n",
    "\n",
    "# 결측값 대치\n",
    "train['Age'].fillna(train['Age'].mean(), inplace=True)\n",
    "\n",
    "train.loc[train['Age'] <= 20, 'Age'] = 0\n",
    "train.loc[(train['Age'] > 20) & (train['Age'] <= 40), 'Age'] = 1\n",
    "train.loc[(train['Age'] > 40) & (train['Age'] <= 60), 'Age'] = 2\n",
    "train.loc[train['Age'] > 60, 'Age'] = 3\n",
    "\n",
    "test.loc[test['Age'] <= 20, 'Age'] = 0\n",
    "test.loc[(test['Age'] > 20) & (test['Age'] <= 40), 'Age'] = 1\n",
    "test.loc[(test['Age'] > 40) & (test['Age'] <= 60), 'Age'] = 2\n",
    "test.loc[test['Age'] > 60, 'Age'] = 3\n",
    "\n",
    "fig = plt.figure(figsize=(5,5))\n",
    "ax1 = fig.add_subplot(1,1,1)\n",
    "\n",
    "print(train['Age'].value_counts())\n",
    "sns.barplot(x='Age', y='Survived', data=train, palette='Set2', ax=ax1)"
   ]
  },
  {
   "cell_type": "code",
   "execution_count": 20,
   "id": "f2943b61-734d-4342-a8af-6eb04eae558b",
   "metadata": {},
   "outputs": [
    {
     "name": "stdout",
     "output_type": "stream",
     "text": [
      "Fare\n",
      "2.0    229\n",
      "0.0    223\n",
      "3.0    222\n",
      "1.0    217\n",
      "Name: count, dtype: int64\n"
     ]
    },
    {
     "data": {
      "text/plain": [
       "<Axes: xlabel='Fare', ylabel='Survived'>"
      ]
     },
     "execution_count": 20,
     "metadata": {},
     "output_type": "execute_result"
    },
    {
     "data": {
      "image/png": "[encoded data removed]",
      "text/plain": [
       "<Figure size 500x500 with 1 Axes>"
      ]
     },
     "metadata": {},
     "output_type": "display_data"
    }
   ],
   "source": [
    "# Fare를 범주형 변수로 변형\n",
    "\n",
    "# train['Fare_class'] = pd.qcut(train['Fare'], 4)\n",
    "# train['Fare_class']\n",
    "\n",
    "train.loc[train['Fare'] <= 7.91, 'Fare'] = 0\n",
    "train.loc[(train['Fare'] > 7.91) & (train['Fare'] <= 14.454), 'Fare'] = 1\n",
    "train.loc[(train['Fare'] > 14.454) & (train['Fare'] <= 31), 'Fare'] = 2\n",
    "train.loc[(train['Fare'] > 31),'Fare'] = 3\n",
    "\n",
    "test.loc[test['Fare'] <= 7.91, 'Fare'] = 0\n",
    "test.loc[(test['Fare'] > 7.91) & (test['Fare'] <= 14.454), 'Fare'] = 1\n",
    "test.loc[(test['Fare'] > 14.454) & (test['Fare'] <= 31), 'Fare'] = 2\n",
    "test.loc[(test['Fare'] > 31),'Fare'] = 3\n",
    "\n",
    "# train = train.drop(['Fare_class'], axis=1, inplace=True)\n",
    "\n",
    "fig = plt.figure(figsize=(5,5))\n",
    "ax1 = fig.add_subplot(1,1,1)\n",
    "\n",
    "print(train['Fare'].value_counts())\n",
    "sns.barplot(x='Fare', y='Survived', data=train, palette='Set2', ax=ax1)"
   ]
  },
  {
   "cell_type": "markdown",
   "id": "d66cc784-1ad4-46e2-be7f-8635dedc4954",
   "metadata": {},
   "source": [
    "## **Feature 분석 정리**"
   ]
  },
  {
   "cell_type": "markdown",
   "id": "9301a158-790c-40fa-ba63-2f4151f8a8e4",
   "metadata": {},
   "source": [
    "### **이진형 변수**\n",
    "\n",
    "- Sex\n",
    "    - 여성의 생존율이 남성의 생존율보다 높다.\n",
    "    - 범주형 변수 변환 대상\n",
    "    - 종류 : male, female\n",
    "    - type : object\n"
   ]
  },
  {
   "cell_type": "markdown",
   "id": "b73fdb96-1145-4b7d-b9a5-8cf44d9527cf",
   "metadata": {},
   "source": [
    "### **순서형 피쳐 & 명목형 피쳐**\n",
    "\n",
    "- Pclass\n",
    "    - 객실의 등급이 좋을 수록 생존율이 높다.\n",
    "    - One_Hot_Encoding 대상\n",
    "    - 객실 등급 : 1, 2, 3\n",
    "    - type : int64\n",
    "\n",
    "- SibSp\n",
    "    - Parch 피쳐와 합쳐 동승자 피쳐로 대체, 동승자가 적을수록 생존율이 높다.\n",
    "    - type : int64\n",
    "\n",
    "- Parch\n",
    "    - SibSp 피쳐와 합쳐 동승자 피쳐로 대체, 동승자가 적을수록 생존율이 높다.\n",
    "    - type : int64\n",
    "\n",
    "- Embarked\n",
    "    - 범주형 변수 변환 대상\n",
    "    - 승선항이 C일 때 생존율이 높다.\n",
    "    - 결측치는 최빈값인 S로 대체\n",
    "    - type : object\n"
   ]
  },
  {
   "cell_type": "markdown",
   "id": "925fc908-117c-4f1b-8c0d-a34e8a769f27",
   "metadata": {},
   "source": [
    "### **연속형 피쳐**\n",
    "\n",
    "- Age\n",
    "    - 결측값은 평균값으로 대체\n",
    "    - 4구간으로 나누어 시용\n",
    "    - 20~30세의 승객들의 생존율이 높다.\n",
    "    - type : float64\n",
    "\n",
    "- Fare\n",
    "    - 결측값은 중앙값으로 대체\n",
    "    - 운임료가 높을수록 생존율이 높다.\n",
    "    - 4구간으로 나누어 시용\n",
    "    - type : float64\n"
   ]
  },
  {
   "cell_type": "markdown",
   "id": "a1b42a66-2845-4761-a071-10287b07bce2",
   "metadata": {},
   "source": [
    "### **기타 피쳐**\n",
    "\n",
    "- Name\n",
    "    - 정규 표현식을 사용해 남성과 여성으로 구분\n",
    "    - type : object\n",
    "\n",
    "- Ticket\n",
    "    - 사용하지 않으므로 삭제 예정\n",
    "    - type : object\n",
    "\n",
    "- Cabin\n",
    "    - 결측값이 많아 삭제 예정\n",
    "    - type : object\n"
   ]
  },
  {
   "cell_type": "markdown",
   "id": "f8dec795-8566-4dd0-870b-bcefd6fd0a6f",
   "metadata": {},
   "source": [
    "## **Feature Engineering**"
   ]
  },
  {
   "cell_type": "code",
   "execution_count": 21,
   "id": "6b14fe9f-ea4f-46e8-8996-4ad199c2edea",
   "metadata": {},
   "outputs": [],
   "source": [
    "train = pd.read_csv(r\"C:\\Users\\degas\\Desktop\\titanic\\train.csv\").drop(columns=['PassengerId'], axis=1)\n",
    "test = pd.read_csv(r\"C:\\Users\\degas\\Desktop\\titanic\\test.csv\")\n",
    "submission = pd.read_csv(r\"C:\\Users\\degas\\Desktop\\titanic\\gender_submission.csv\")"
   ]
  },
  {
   "cell_type": "code",
   "execution_count": 22,
   "id": "3f2d5b4b-0aff-4a07-8ef0-0d75db439311",
   "metadata": {},
   "outputs": [
    {
     "data": {
      "text/html": [
       "<div>\n",
       "<style scoped>\n",
       "    .dataframe tbody tr th:only-of-type {\n",
       "        vertical-align: middle;\n",
       "    }\n",
       "\n",
       "    .dataframe tbody tr th {\n",
       "        vertical-align: top;\n",
       "    }\n",
       "\n",
       "    .dataframe thead th {\n",
       "        text-align: right;\n",
       "    }\n",
       "</style>\n",
       "<table border=\"1\" class=\"dataframe\">\n",
       "  <thead>\n",
       "    <tr style=\"text-align: right;\">\n",
       "      <th></th>\n",
       "      <th>Survived</th>\n",
       "      <th>Pclass</th>\n",
       "      <th>Name</th>\n",
       "      <th>Sex</th>\n",
       "      <th>Age</th>\n",
       "      <th>SibSp</th>\n",
       "      <th>Parch</th>\n",
       "      <th>Ticket</th>\n",
       "      <th>Fare</th>\n",
       "      <th>Cabin</th>\n",
       "      <th>Embarked</th>\n",
       "    </tr>\n",
       "  </thead>\n",
       "  <tbody>\n",
       "    <tr>\n",
       "      <th>0</th>\n",
       "      <td>0</td>\n",
       "      <td>3</td>\n",
       "      <td>Braund, Mr. Owen Harris</td>\n",
       "      <td>male</td>\n",
       "      <td>22.0</td>\n",
       "      <td>1</td>\n",
       "      <td>0</td>\n",
       "      <td>A/5 21171</td>\n",
       "      <td>7.2500</td>\n",
       "      <td>NaN</td>\n",
       "      <td>S</td>\n",
       "    </tr>\n",
       "    <tr>\n",
       "      <th>1</th>\n",
       "      <td>1</td>\n",
       "      <td>1</td>\n",
       "      <td>Cumings, Mrs. John Bradley (Florence Briggs Th...</td>\n",
       "      <td>female</td>\n",
       "      <td>38.0</td>\n",
       "      <td>1</td>\n",
       "      <td>0</td>\n",
       "      <td>PC 17599</td>\n",
       "      <td>71.2833</td>\n",
       "      <td>C85</td>\n",
       "      <td>C</td>\n",
       "    </tr>\n",
       "    <tr>\n",
       "      <th>2</th>\n",
       "      <td>1</td>\n",
       "      <td>3</td>\n",
       "      <td>Heikkinen, Miss. Laina</td>\n",
       "      <td>female</td>\n",
       "      <td>26.0</td>\n",
       "      <td>0</td>\n",
       "      <td>0</td>\n",
       "      <td>STON/O2. 3101282</td>\n",
       "      <td>7.9250</td>\n",
       "      <td>NaN</td>\n",
       "      <td>S</td>\n",
       "    </tr>\n",
       "    <tr>\n",
       "      <th>3</th>\n",
       "      <td>1</td>\n",
       "      <td>1</td>\n",
       "      <td>Futrelle, Mrs. Jacques Heath (Lily May Peel)</td>\n",
       "      <td>female</td>\n",
       "      <td>35.0</td>\n",
       "      <td>1</td>\n",
       "      <td>0</td>\n",
       "      <td>113803</td>\n",
       "      <td>53.1000</td>\n",
       "      <td>C123</td>\n",
       "      <td>S</td>\n",
       "    </tr>\n",
       "    <tr>\n",
       "      <th>4</th>\n",
       "      <td>0</td>\n",
       "      <td>3</td>\n",
       "      <td>Allen, Mr. William Henry</td>\n",
       "      <td>male</td>\n",
       "      <td>35.0</td>\n",
       "      <td>0</td>\n",
       "      <td>0</td>\n",
       "      <td>373450</td>\n",
       "      <td>8.0500</td>\n",
       "      <td>NaN</td>\n",
       "      <td>S</td>\n",
       "    </tr>\n",
       "  </tbody>\n",
       "</table>\n",
       "</div>"
      ],
      "text/plain": [
       "   Survived  Pclass                                               Name  \\\n",
       "0         0       3                            Braund, Mr. Owen Harris   \n",
       "1         1       1  Cumings, Mrs. John Bradley (Florence Briggs Th...   \n",
       "2         1       3                             Heikkinen, Miss. Laina   \n",
       "3         1       1       Futrelle, Mrs. Jacques Heath (Lily May Peel)   \n",
       "4         0       3                           Allen, Mr. William Henry   \n",
       "\n",
       "      Sex   Age  SibSp  Parch            Ticket     Fare Cabin Embarked  \n",
       "0    male  22.0      1      0         A/5 21171   7.2500   NaN        S  \n",
       "1  female  38.0      1      0          PC 17599  71.2833   C85        C  \n",
       "2  female  26.0      0      0  STON/O2. 3101282   7.9250   NaN        S  \n",
       "3  female  35.0      1      0            113803  53.1000  C123        S  \n",
       "4    male  35.0      0      0            373450   8.0500   NaN        S  "
      ]
     },
     "execution_count": 22,
     "metadata": {},
     "output_type": "execute_result"
    }
   ],
   "source": [
    "train.head()"
   ]
  },
  {
   "cell_type": "code",
   "execution_count": 23,
   "id": "6910cb60-47be-4ed8-a2d3-132cba062975",
   "metadata": {},
   "outputs": [],
   "source": [
    "# 결측값 대치 및 범주형 변수로 변환"
   ]
  },
  {
   "cell_type": "code",
   "execution_count": 24,
   "id": "6767f2bd-2eb0-4cf1-8a2d-45045383d0a3",
   "metadata": {},
   "outputs": [
    {
     "name": "stdout",
     "output_type": "stream",
     "text": [
      "Sex         female  male\n",
      "Title_name              \n",
      "Col              0     2\n",
      "Dona             1     0\n",
      "Dr               0     1\n",
      "Master           0    21\n",
      "Miss            78     0\n",
      "Mr               0   240\n",
      "Mrs             72     0\n",
      "Ms               1     0\n",
      "Rev              0     2\n"
     ]
    }
   ],
   "source": [
    "# 1. Name \n",
    "\n",
    "# Dot(.) 메타 문자는 줄바꿈 문자인 \\n을 제외한 모든 문자와 매치됨\n",
    "train['Title_name'] = train.Name.str.extract(' ([a-zA-Z]+)\\.', expand=False)\n",
    "\n",
    "# 피벗테이블은 그룹 빈도를 계산하기 위한 피벗테이블의 특수한 경우\n",
    "pd.crosstab(train['Title_name'], train['Sex'])\n",
    "\n",
    "# Sex 0은 남자 1은 여자\n",
    "train['Title_name'] = train['Title_name'].replace(['Capt', 'Col', 'Countess', 'Don', 'Dr' , \n",
    "                                             'Jonkheer','Lady', 'Major','Rev','Sir'], 'etc')\n",
    "train['Title_name'] = train['Title_name'].replace('Mlle', 'Miss')\n",
    "train['Title_name'] = train['Title_name'].replace('Ms', 'Miss')\n",
    "train['Title_name'] = train['Title_name'].replace('Mme', 'Mrs')\n",
    "\n",
    "test['Title_name'] = test.Name.str.extract(' ([a-zA-Z]+)\\.', expand=False)\n",
    "print(pd.crosstab(test['Title_name'], test['Sex']))\n",
    "\n",
    "test['Title_name'] = test['Title_name'].replace(['Col', 'Dona', 'Dr', 'Rev'], 'etc')\n",
    "test['Title_name'] = test['Title_name'].replace('Ms', 'Miss')\n",
    "\n",
    "\n",
    "train = train.drop(['Name'], axis=1)\n",
    "test = test.drop(['Name'], axis=1)\n",
    "\n",
    "\n",
    "train['Title_name'] = train['Title_name'].map({'Mr':0, 'Miss':1, 'Mrs':2, 'Master':3, 'etc':4})\n",
    "test['Title_name'] = test['Title_name'].map({'Mr':0, 'Miss': 1, 'Mrs':2, 'Master':3, 'etc':4})"
   ]
  },
  {
   "cell_type": "code",
   "execution_count": 25,
   "id": "42d1a3d5-f073-491a-82a3-56c04ba4f4a6",
   "metadata": {},
   "outputs": [],
   "source": [
    "# 2. Sex\n",
    "train['Sex'] = train['Sex'].map({'male' : 0, 'female' : 1}).astype(int)\n",
    "test['Sex'] = test['Sex'].map({'male' : 0, 'female' : 1}).astype(int)"
   ]
  },
  {
   "cell_type": "code",
   "execution_count": 26,
   "id": "5d52b916-cf21-4297-97e1-3168d5259469",
   "metadata": {},
   "outputs": [],
   "source": [
    "# 3. Age\n",
    "train['Age'].fillna(train['Age'].mean(), inplace=True)\n",
    "test['Age'].fillna(train['Age'].mean(), inplace=True)\n",
    "\n",
    "train.loc[train['Age'] <= 20, 'Age'] = 0\n",
    "train.loc[(train['Age'] > 20) & (train['Age'] <= 40), 'Age'] = 1\n",
    "train.loc[(train['Age'] > 40) & (train['Age'] <= 60), 'Age'] = 2\n",
    "train.loc[train['Age'] > 60, 'Age'] = 3\n",
    "\n",
    "test.loc[test['Age'] <= 20, 'Age'] = 0\n",
    "test.loc[(test['Age'] > 20) & (test['Age'] <= 40), 'Age'] = 1\n",
    "test.loc[(test['Age'] > 40) & (test['Age'] <= 60), 'Age'] = 2\n",
    "test.loc[test['Age'] > 60, 'Age'] = 3"
   ]
  },
  {
   "cell_type": "code",
   "execution_count": 27,
   "id": "8fd31e4e-9e58-4434-a7a2-12ebd57f2c05",
   "metadata": {},
   "outputs": [],
   "source": [
    "# 4. Fare\n",
    "test['Fare'].fillna(test['Fare'].median(), inplace=True)\n",
    "\n",
    "train.loc[train['Fare'] <= 7.91, 'Fare'] = 0\n",
    "train.loc[(train['Fare'] > 7.91) & (train['Fare'] <= 14.454), 'Fare'] = 1\n",
    "train.loc[(train['Fare'] > 14.454) & (train['Fare'] <= 31), 'Fare'] = 2\n",
    "train.loc[(train['Fare'] > 31),'Fare'] = 3\n",
    "\n",
    "test.loc[test['Fare'] <= 7.91, 'Fare'] = 0\n",
    "test.loc[(test['Fare'] > 7.91) & (test['Fare'] <= 14.454), 'Fare'] = 1\n",
    "test.loc[(test['Fare'] > 14.454) & (test['Fare'] <= 31), 'Fare'] = 2\n",
    "test.loc[(test['Fare'] > 31),'Fare'] = 3"
   ]
  },
  {
   "cell_type": "code",
   "execution_count": 28,
   "id": "8015d773-5987-42bc-8497-6f7400a4329d",
   "metadata": {},
   "outputs": [],
   "source": [
    "# 5. SibSp & Parch\n",
    "\n",
    "train['fellow'] = train['SibSp'] + train['Parch'] + 1 \n",
    "test['fellow'] = test['SibSp'] + test['Parch'] + 1 \n",
    "\n",
    "train = train.drop(['Parch', 'SibSp'], axis=1)\n",
    "test = test.drop(['Parch', 'SibSp'], axis=1)"
   ]
  },
  {
   "cell_type": "code",
   "execution_count": 29,
   "id": "240c70f7-aeca-436c-8f42-de8f01e7051c",
   "metadata": {},
   "outputs": [],
   "source": [
    "# 6. Embarked\n",
    "\n",
    "train['Embarked'].fillna('S', inplace=True)\n",
    "\n",
    "train['Embarked'] = train['Embarked'].map({'S' : 0, 'C' : 1, 'Q': 2}).astype(int)\n",
    "test['Embarked'] = test['Embarked'].map({'S' : 0, 'C' : 1, 'Q': 2}).astype(int)"
   ]
  },
  {
   "cell_type": "code",
   "execution_count": 30,
   "id": "3f4d2877-0fd6-48a2-8f0f-c7b1d2b16e52",
   "metadata": {},
   "outputs": [],
   "source": [
    "# 사용하지 않는 피쳐 삭제\n",
    "\n",
    "train = train.drop(['Cabin', 'Ticket'], axis=1)\n",
    "test = test.drop(['Cabin', 'Ticket'], axis=1)"
   ]
  },
  {
   "cell_type": "code",
   "execution_count": 31,
   "id": "453683e8-5bdf-421a-8f62-f65b0411cfb2",
   "metadata": {},
   "outputs": [
    {
     "data": {
      "text/html": [
       "<div>\n",
       "<style scoped>\n",
       "    .dataframe tbody tr th:only-of-type {\n",
       "        vertical-align: middle;\n",
       "    }\n",
       "\n",
       "    .dataframe tbody tr th {\n",
       "        vertical-align: top;\n",
       "    }\n",
       "\n",
       "    .dataframe thead th {\n",
       "        text-align: right;\n",
       "    }\n",
       "</style>\n",
       "<table border=\"1\" class=\"dataframe\">\n",
       "  <thead>\n",
       "    <tr style=\"text-align: right;\">\n",
       "      <th></th>\n",
       "      <th>Survived</th>\n",
       "      <th>Pclass</th>\n",
       "      <th>Sex</th>\n",
       "      <th>Age</th>\n",
       "      <th>Fare</th>\n",
       "      <th>Embarked</th>\n",
       "      <th>Title_name</th>\n",
       "      <th>fellow</th>\n",
       "    </tr>\n",
       "  </thead>\n",
       "  <tbody>\n",
       "    <tr>\n",
       "      <th>0</th>\n",
       "      <td>0</td>\n",
       "      <td>3</td>\n",
       "      <td>0</td>\n",
       "      <td>1.0</td>\n",
       "      <td>0.0</td>\n",
       "      <td>0</td>\n",
       "      <td>0</td>\n",
       "      <td>2</td>\n",
       "    </tr>\n",
       "    <tr>\n",
       "      <th>1</th>\n",
       "      <td>1</td>\n",
       "      <td>1</td>\n",
       "      <td>1</td>\n",
       "      <td>1.0</td>\n",
       "      <td>3.0</td>\n",
       "      <td>1</td>\n",
       "      <td>2</td>\n",
       "      <td>2</td>\n",
       "    </tr>\n",
       "    <tr>\n",
       "      <th>2</th>\n",
       "      <td>1</td>\n",
       "      <td>3</td>\n",
       "      <td>1</td>\n",
       "      <td>1.0</td>\n",
       "      <td>1.0</td>\n",
       "      <td>0</td>\n",
       "      <td>1</td>\n",
       "      <td>1</td>\n",
       "    </tr>\n",
       "    <tr>\n",
       "      <th>3</th>\n",
       "      <td>1</td>\n",
       "      <td>1</td>\n",
       "      <td>1</td>\n",
       "      <td>1.0</td>\n",
       "      <td>3.0</td>\n",
       "      <td>0</td>\n",
       "      <td>2</td>\n",
       "      <td>2</td>\n",
       "    </tr>\n",
       "    <tr>\n",
       "      <th>4</th>\n",
       "      <td>0</td>\n",
       "      <td>3</td>\n",
       "      <td>0</td>\n",
       "      <td>1.0</td>\n",
       "      <td>1.0</td>\n",
       "      <td>0</td>\n",
       "      <td>0</td>\n",
       "      <td>1</td>\n",
       "    </tr>\n",
       "  </tbody>\n",
       "</table>\n",
       "</div>"
      ],
      "text/plain": [
       "   Survived  Pclass  Sex  Age  Fare  Embarked  Title_name  fellow\n",
       "0         0       3    0  1.0   0.0         0           0       2\n",
       "1         1       1    1  1.0   3.0         1           2       2\n",
       "2         1       3    1  1.0   1.0         0           1       1\n",
       "3         1       1    1  1.0   3.0         0           2       2\n",
       "4         0       3    0  1.0   1.0         0           0       1"
      ]
     },
     "execution_count": 31,
     "metadata": {},
     "output_type": "execute_result"
    }
   ],
   "source": [
    "train.head()"
   ]
  },
  {
   "cell_type": "code",
   "execution_count": 32,
   "id": "0cfe8cde-d763-489e-93f0-2d54cafe4fce",
   "metadata": {},
   "outputs": [
    {
     "name": "stdout",
     "output_type": "stream",
     "text": [
      "<class 'pandas.core.frame.DataFrame'>\n",
      "RangeIndex: 891 entries, 0 to 890\n",
      "Data columns (total 8 columns):\n",
      " #   Column      Non-Null Count  Dtype  \n",
      "---  ------      --------------  -----  \n",
      " 0   Survived    891 non-null    int64  \n",
      " 1   Pclass      891 non-null    int64  \n",
      " 2   Sex         891 non-null    int32  \n",
      " 3   Age         891 non-null    float64\n",
      " 4   Fare        891 non-null    float64\n",
      " 5   Embarked    891 non-null    int32  \n",
      " 6   Title_name  891 non-null    int64  \n",
      " 7   fellow      891 non-null    int64  \n",
      "dtypes: float64(2), int32(2), int64(4)\n",
      "memory usage: 48.9 KB\n"
     ]
    }
   ],
   "source": [
    "train.info()"
   ]
  },
  {
   "cell_type": "code",
   "execution_count": 33,
   "id": "b19c9644-6265-4004-81d3-419dc2514057",
   "metadata": {},
   "outputs": [
    {
     "data": {
      "text/html": [
       "<div>\n",
       "<style scoped>\n",
       "    .dataframe tbody tr th:only-of-type {\n",
       "        vertical-align: middle;\n",
       "    }\n",
       "\n",
       "    .dataframe tbody tr th {\n",
       "        vertical-align: top;\n",
       "    }\n",
       "\n",
       "    .dataframe thead th {\n",
       "        text-align: right;\n",
       "    }\n",
       "</style>\n",
       "<table border=\"1\" class=\"dataframe\">\n",
       "  <thead>\n",
       "    <tr style=\"text-align: right;\">\n",
       "      <th></th>\n",
       "      <th>PassengerId</th>\n",
       "      <th>Pclass</th>\n",
       "      <th>Sex</th>\n",
       "      <th>Age</th>\n",
       "      <th>Fare</th>\n",
       "      <th>Embarked</th>\n",
       "      <th>Title_name</th>\n",
       "      <th>fellow</th>\n",
       "    </tr>\n",
       "  </thead>\n",
       "  <tbody>\n",
       "    <tr>\n",
       "      <th>0</th>\n",
       "      <td>892</td>\n",
       "      <td>3</td>\n",
       "      <td>0</td>\n",
       "      <td>1.0</td>\n",
       "      <td>0.0</td>\n",
       "      <td>2</td>\n",
       "      <td>0</td>\n",
       "      <td>1</td>\n",
       "    </tr>\n",
       "    <tr>\n",
       "      <th>1</th>\n",
       "      <td>893</td>\n",
       "      <td>3</td>\n",
       "      <td>1</td>\n",
       "      <td>2.0</td>\n",
       "      <td>0.0</td>\n",
       "      <td>0</td>\n",
       "      <td>2</td>\n",
       "      <td>2</td>\n",
       "    </tr>\n",
       "    <tr>\n",
       "      <th>2</th>\n",
       "      <td>894</td>\n",
       "      <td>2</td>\n",
       "      <td>0</td>\n",
       "      <td>3.0</td>\n",
       "      <td>1.0</td>\n",
       "      <td>2</td>\n",
       "      <td>0</td>\n",
       "      <td>1</td>\n",
       "    </tr>\n",
       "    <tr>\n",
       "      <th>3</th>\n",
       "      <td>895</td>\n",
       "      <td>3</td>\n",
       "      <td>0</td>\n",
       "      <td>1.0</td>\n",
       "      <td>1.0</td>\n",
       "      <td>0</td>\n",
       "      <td>0</td>\n",
       "      <td>1</td>\n",
       "    </tr>\n",
       "    <tr>\n",
       "      <th>4</th>\n",
       "      <td>896</td>\n",
       "      <td>3</td>\n",
       "      <td>1</td>\n",
       "      <td>1.0</td>\n",
       "      <td>1.0</td>\n",
       "      <td>0</td>\n",
       "      <td>2</td>\n",
       "      <td>3</td>\n",
       "    </tr>\n",
       "  </tbody>\n",
       "</table>\n",
       "</div>"
      ],
      "text/plain": [
       "   PassengerId  Pclass  Sex  Age  Fare  Embarked  Title_name  fellow\n",
       "0          892       3    0  1.0   0.0         2           0       1\n",
       "1          893       3    1  2.0   0.0         0           2       2\n",
       "2          894       2    0  3.0   1.0         2           0       1\n",
       "3          895       3    0  1.0   1.0         0           0       1\n",
       "4          896       3    1  1.0   1.0         0           2       3"
      ]
     },
     "execution_count": 33,
     "metadata": {},
     "output_type": "execute_result"
    }
   ],
   "source": [
    "test.head()"
   ]
  },
  {
   "cell_type": "code",
   "execution_count": 34,
   "id": "ed4fca5f-a791-4ca9-bc03-55c38d948e94",
   "metadata": {},
   "outputs": [
    {
     "name": "stdout",
     "output_type": "stream",
     "text": [
      "<class 'pandas.core.frame.DataFrame'>\n",
      "RangeIndex: 418 entries, 0 to 417\n",
      "Data columns (total 8 columns):\n",
      " #   Column       Non-Null Count  Dtype  \n",
      "---  ------       --------------  -----  \n",
      " 0   PassengerId  418 non-null    int64  \n",
      " 1   Pclass       418 non-null    int64  \n",
      " 2   Sex          418 non-null    int32  \n",
      " 3   Age          418 non-null    float64\n",
      " 4   Fare         418 non-null    float64\n",
      " 5   Embarked     418 non-null    int32  \n",
      " 6   Title_name   418 non-null    int64  \n",
      " 7   fellow       418 non-null    int64  \n",
      "dtypes: float64(2), int32(2), int64(4)\n",
      "memory usage: 23.0 KB\n"
     ]
    }
   ],
   "source": [
    "test.info()"
   ]
  },
  {
   "cell_type": "markdown",
   "id": "fe489bfd-b881-40a0-a234-35efc48835ff",
   "metadata": {},
   "source": [
    "## **Model Baseline & Modeling**"
   ]
  },
  {
   "cell_type": "code",
   "execution_count": 35,
   "id": "384226b8-647b-4565-ad6e-35f5a3a0fce8",
   "metadata": {},
   "outputs": [],
   "source": [
    "X = train.drop(['Survived'], axis=1)\n",
    "y = train['Survived']\n",
    "\n",
    "X_train, X_test, y_train, y_test = train_test_split(X, y, test_size=0.2, random_state=2002)"
   ]
  },
  {
   "cell_type": "code",
   "execution_count": 36,
   "id": "b2c216ce-187d-43ad-be7b-321b8636e253",
   "metadata": {},
   "outputs": [
    {
     "name": "stdout",
     "output_type": "stream",
     "text": [
      "0.8379888268156425\n"
     ]
    }
   ],
   "source": [
    "# 1. 랜덤 포레스트\n",
    "from sklearn.ensemble import RandomForestClassifier\n",
    "rf = RandomForestClassifier(random_state=2)\n",
    "rf.fit(X_train, y_train)\n",
    "rf_pred = rf.predict(X_test)\n",
    "print(accuracy_score(y_test, rf_pred))"
   ]
  },
  {
   "cell_type": "code",
   "execution_count": 37,
   "id": "986ac7f1-61fa-46cd-9a73-923137a1c8e0",
   "metadata": {},
   "outputs": [
    {
     "name": "stdout",
     "output_type": "stream",
     "text": [
      "0.8100558659217877\n"
     ]
    }
   ],
   "source": [
    "# 2. 선형회귀\n",
    "from sklearn.linear_model import LogisticRegression\n",
    "lr = LogisticRegression(solver='liblinear')\n",
    "lr.fit(X_train, y_train)\n",
    "lr_pred = lr.predict(X_test)\n",
    "print(accuracy_score(y_test, lr_pred))"
   ]
  },
  {
   "cell_type": "code",
   "execution_count": 38,
   "id": "a47a65a9-d3c5-45cb-adb7-1da0cf2840f3",
   "metadata": {},
   "outputs": [],
   "source": [
    "# kfold 교차 검증"
   ]
  },
  {
   "cell_type": "code",
   "execution_count": 39,
   "id": "d16a86aa-ed88-4833-b456-0022424732db",
   "metadata": {},
   "outputs": [
    {
     "name": "stdout",
     "output_type": "stream",
     "text": [
      "교차 검증 0 정확도 : 0.811111\n",
      "교차 검증 1 정확도 : 0.831461\n",
      "교차 검증 2 정확도 : 0.797753\n",
      "교차 검증 3 정확도 : 0.831461\n",
      "교차 검증 4 정확도 : 0.808989\n",
      "교차 검증 5 정확도 : 0.853933\n",
      "교차 검증 6 정확도 : 0.808989\n",
      "교차 검증 7 정확도 : 0.808989\n",
      "교차 검증 8 정확도 : 0.775281\n",
      "교차 검증 9 정확도 : 0.876404\n",
      "평균 정확도: 0.8204\n"
     ]
    }
   ],
   "source": [
    "from sklearn.model_selection import KFold\n",
    "\n",
    "def titanic_kfold(clf, folds=5):\n",
    "    kfold = KFold(n_splits=folds,  shuffle=True, random_state=42)\n",
    "    scores = []\n",
    "\n",
    "    for idx, (train_idx, test_idx) in enumerate(kfold.split(X)):\n",
    "        X_train, X_test = X.values[train_idx], X.values[test_idx]\n",
    "        y_train, y_test = y.values[train_idx], y.values[test_idx]\n",
    "\n",
    "        clf.fit(X_train, y_train)\n",
    "        predictions = clf.predict(X_test)\n",
    "        acc = accuracy_score(y_test, predictions)\n",
    "        scores.append(acc)\n",
    "        print('교차 검증 {0} 정확도 : {1:4f}'.format(idx, acc))\n",
    "\n",
    "    mean_score = np.mean(scores)\n",
    "    print('평균 정확도: {0:.4f}'.format(mean_score))\n",
    "\n",
    "titanic_kfold(rf, folds=10)"
   ]
  },
  {
   "cell_type": "code",
   "execution_count": 40,
   "id": "c514b80f-be8d-4329-bbf9-0c2efaf110c6",
   "metadata": {},
   "outputs": [
    {
     "name": "stdout",
     "output_type": "stream",
     "text": [
      "교차 검증 0 정확도 : 0.800000\n",
      "교차 검증 1 정확도 : 0.764045\n",
      "교차 검증 2 정확도 : 0.831461\n",
      "교차 검증 3 정확도 : 0.775281\n",
      "교차 검증 4 정확도 : 0.865169\n",
      "교차 검증 5 정확도 : 0.853933\n",
      "교차 검증 6 정확도 : 0.786517\n",
      "교차 검증 7 정확도 : 0.741573\n",
      "교차 검증 8 정확도 : 0.775281\n",
      "교차 검증 9 정확도 : 0.887640\n",
      "평균 정확도: 0.8081\n"
     ]
    }
   ],
   "source": [
    "titanic_kfold(lr, folds=10)"
   ]
  },
  {
   "cell_type": "code",
   "execution_count": 41,
   "id": "4909bc39-0def-4989-b21b-9eb448260adc",
   "metadata": {},
   "outputs": [
    {
     "name": "stdout",
     "output_type": "stream",
     "text": [
      "교차 검증 0 정확도 : 0.776536\n",
      "교차 검증 1 정확도 : 0.797753\n",
      "교차 검증 2 정확도 : 0.848315\n",
      "교차 검증 3 정확도 : 0.831461\n",
      "교차 검증 4 정확도 : 0.837079\n",
      "평균 정확도: 0.8182\n"
     ]
    }
   ],
   "source": [
    "from sklearn.model_selection import cross_val_score\n",
    "\n",
    "scores = cross_val_score(rf, X, y, cv=5)\n",
    "\n",
    "for idx, acc in enumerate(scores):\n",
    "    print('교차 검증 {0} 정확도 : {1:4f}'.format(idx, acc))\n",
    "\n",
    "print('평균 정확도: {0:.4f}'.format(np.mean(scores)))"
   ]
  },
  {
   "cell_type": "code",
   "execution_count": 42,
   "id": "0bfe71cb-4bf2-4acc-b6a3-8e34ae5bfafc",
   "metadata": {},
   "outputs": [
    {
     "name": "stdout",
     "output_type": "stream",
     "text": [
      "교차 검증 0 정확도 : 0.810056\n",
      "교차 검증 1 정확도 : 0.820225\n",
      "교차 검증 2 정확도 : 0.797753\n",
      "교차 검증 3 정확도 : 0.814607\n",
      "교차 검증 4 정확도 : 0.814607\n",
      "평균 정확도: 0.8114\n"
     ]
    }
   ],
   "source": [
    "from sklearn.model_selection import cross_val_score\n",
    "\n",
    "scores = cross_val_score(lr, X, y, cv=5)\n",
    "\n",
    "for idx, acc in enumerate(scores):\n",
    "    print('교차 검증 {0} 정확도 : {1:4f}'.format(idx, acc))\n",
    "\n",
    "print('평균 정확도: {0:.4f}'.format(np.mean(scores)))"
   ]
  },
  {
   "cell_type": "code",
   "execution_count": 43,
   "id": "b8338682-52ec-4992-b3b9-a5f9ec8ff888",
   "metadata": {},
   "outputs": [],
   "source": [
    "# GridSearch"
   ]
  },
  {
   "cell_type": "code",
   "execution_count": 44,
   "id": "161289b4-393b-41d4-86ce-9824f82d7e4e",
   "metadata": {},
   "outputs": [
    {
     "data": {
      "text/plain": [
       "\"\\nfrom sklearn.model_selection import GridSearchCV\\n\\nparams = {'n_estimators' : [100, 200, 300],\\n          'max_depth': [2,3,4,5,8,10],\\n          'min_samples_split': [2,3,5],\\n          'min_samples_leaf': [1,3,5,8]}\\n\\ngrid_rf = GridSearchCV(rf, param_grid=params, scoring='accuracy', cv=5)\\ngrid_rf.fit(X_train, y_train)\\n\\nprint(grid_rf.best_params_)\\nprint(grid_rf.best_score_)\\n\""
      ]
     },
     "execution_count": 44,
     "metadata": {},
     "output_type": "execute_result"
    }
   ],
   "source": [
    "'''\n",
    "from sklearn.model_selection import GridSearchCV\n",
    "\n",
    "params = {'n_estimators' : [100, 200, 300],\n",
    "          'max_depth': [2,3,4,5,8,10],\n",
    "          'min_samples_split': [2,3,5],\n",
    "          'min_samples_leaf': [1,3,5,8]}\n",
    "\n",
    "grid_rf = GridSearchCV(rf, param_grid=params, scoring='accuracy', cv=5)\n",
    "grid_rf.fit(X_train, y_train)\n",
    "\n",
    "print(grid_rf.best_params_)\n",
    "print(grid_rf.best_score_)\n",
    "'''"
   ]
  },
  {
   "cell_type": "code",
   "execution_count": 45,
   "id": "7036a7ba-311e-44c1-bcd1-fb92bda9f7da",
   "metadata": {},
   "outputs": [],
   "source": [
    "X = train.drop(['Survived'], axis=1)\n",
    "y = train['Survived']\n",
    "\n",
    "X_train = train.drop(['Survived'], axis=1)\n",
    "X_test = test.drop(['PassengerId'], axis=1)\n",
    "y_train = train['Survived']"
   ]
  },
  {
   "cell_type": "code",
   "execution_count": 46,
   "id": "2a64f516-cb10-4420-95f0-678577120df5",
   "metadata": {},
   "outputs": [
    {
     "name": "stdout",
     "output_type": "stream",
     "text": [
      "83.73\n"
     ]
    }
   ],
   "source": [
    "rf = RandomForestClassifier(n_estimators=300,\n",
    "                            max_depth=4,\n",
    "                            min_samples_leaf=1,\n",
    "                            min_samples_split=2,\n",
    "                            random_state=2)\n",
    "\n",
    "rf.fit(X_train, y_train)\n",
    "rf_pred = rf.predict(X_test)\n",
    "score = round(rf.score(X_train, y_train)*100, 2)\n",
    "print(score)"
   ]
  },
  {
   "cell_type": "code",
   "execution_count": 47,
   "id": "2cc62345-0b80-4c04-8f3f-49222ae5811e",
   "metadata": {},
   "outputs": [
    {
     "data": {
      "text/html": [
       "<div>\n",
       "<style scoped>\n",
       "    .dataframe tbody tr th:only-of-type {\n",
       "        vertical-align: middle;\n",
       "    }\n",
       "\n",
       "    .dataframe tbody tr th {\n",
       "        vertical-align: top;\n",
       "    }\n",
       "\n",
       "    .dataframe thead th {\n",
       "        text-align: right;\n",
       "    }\n",
       "</style>\n",
       "<table border=\"1\" class=\"dataframe\">\n",
       "  <thead>\n",
       "    <tr style=\"text-align: right;\">\n",
       "      <th></th>\n",
       "      <th>PassengerId</th>\n",
       "      <th>Survived</th>\n",
       "    </tr>\n",
       "  </thead>\n",
       "  <tbody>\n",
       "    <tr>\n",
       "      <th>0</th>\n",
       "      <td>892</td>\n",
       "      <td>0</td>\n",
       "    </tr>\n",
       "    <tr>\n",
       "      <th>1</th>\n",
       "      <td>893</td>\n",
       "      <td>1</td>\n",
       "    </tr>\n",
       "    <tr>\n",
       "      <th>2</th>\n",
       "      <td>894</td>\n",
       "      <td>0</td>\n",
       "    </tr>\n",
       "    <tr>\n",
       "      <th>3</th>\n",
       "      <td>895</td>\n",
       "      <td>0</td>\n",
       "    </tr>\n",
       "    <tr>\n",
       "      <th>4</th>\n",
       "      <td>896</td>\n",
       "      <td>1</td>\n",
       "    </tr>\n",
       "    <tr>\n",
       "      <th>...</th>\n",
       "      <td>...</td>\n",
       "      <td>...</td>\n",
       "    </tr>\n",
       "    <tr>\n",
       "      <th>413</th>\n",
       "      <td>1305</td>\n",
       "      <td>0</td>\n",
       "    </tr>\n",
       "    <tr>\n",
       "      <th>414</th>\n",
       "      <td>1306</td>\n",
       "      <td>1</td>\n",
       "    </tr>\n",
       "    <tr>\n",
       "      <th>415</th>\n",
       "      <td>1307</td>\n",
       "      <td>0</td>\n",
       "    </tr>\n",
       "    <tr>\n",
       "      <th>416</th>\n",
       "      <td>1308</td>\n",
       "      <td>0</td>\n",
       "    </tr>\n",
       "    <tr>\n",
       "      <th>417</th>\n",
       "      <td>1309</td>\n",
       "      <td>1</td>\n",
       "    </tr>\n",
       "  </tbody>\n",
       "</table>\n",
       "<p>418 rows × 2 columns</p>\n",
       "</div>"
      ],
      "text/plain": [
       "     PassengerId  Survived\n",
       "0            892         0\n",
       "1            893         1\n",
       "2            894         0\n",
       "3            895         0\n",
       "4            896         1\n",
       "..           ...       ...\n",
       "413         1305         0\n",
       "414         1306         1\n",
       "415         1307         0\n",
       "416         1308         0\n",
       "417         1309         1\n",
       "\n",
       "[418 rows x 2 columns]"
      ]
     },
     "execution_count": 47,
     "metadata": {},
     "output_type": "execute_result"
    }
   ],
   "source": [
    "submission['Survived'] = rf.predict(X_test)\n",
    "\n",
    "submission.to_csv('submission.csv', index=False)\n",
    "\n",
    "submission"
   ]
  }
 ],
 "metadata": {
  "kernelspec": {
   "display_name": "Python 3 (ipykernel)",
   "language": "python",
   "name": "python3"
  },
  "language_info": {
   "codemirror_mode": {
    "name": "ipython",
    "version": 3
   },
   "file_extension": ".py",
   "mimetype": "text/x-python",
   "name": "python",
   "nbconvert_exporter": "python",
   "pygments_lexer": "ipython3",
   "version": "3.11.5"
  }
 },
 "nbformat": 4,
 "nbformat_minor": 5
}
